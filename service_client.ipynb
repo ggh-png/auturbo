{
 "cells": [
  {
   "cell_type": "code",
   "execution_count": 4,
   "metadata": {},
   "outputs": [],
   "source": [
    "%config Completer.use_jedi = False"
   ]
  },
  {
   "cell_type": "markdown",
   "metadata": {},
   "source": [
    "```bash\n",
    "터틀심 노드 \n",
    "ros2 run turtlesim turtlesim_node\n",
    "ros2 service list -t\n",
    "```"
   ]
  },
  {
   "cell_type": "code",
   "execution_count": 1,
   "metadata": {},
   "outputs": [],
   "source": [
    "# 파이썬 ros lib\n",
    "import rclpy as rp\n",
    "# 터틀심 서비스 메시지 type \n",
    "from turtlesim.srv import TeleportAbsolute\n",
    "\n",
    "\n",
    "# 노드 초기화 & 생성(class 부여)\n",
    "rp.init()\n",
    "test_node = rp.create_node('server_client_node')"
   ]
  },
  {
   "cell_type": "markdown",
   "metadata": {},
   "source": []
  },
  {
   "cell_type": "markdown",
   "metadata": {},
   "source": [
    "https://docs.ros2.org/galactic/api/rclpy/api/node.html"
   ]
  },
  {
   "cell_type": "code",
   "execution_count": 2,
   "metadata": {
    "scrolled": false
   },
   "outputs": [],
   "source": [
    "# 생성된 노드에 서비스 클라이언트 기능부여 \n",
    "service_name = '/turtle1/teleport_absolute'\n",
    "cli = test_node.create_client(TeleportAbsolute, service_name)\n",
    "# TeleportAbsolute : 요청(request)과 응답(response)으로 구분되어 있음 "
   ]
  },
  {
   "attachments": {},
   "cell_type": "markdown",
   "metadata": {},
   "source": [
    "turtlesim/srv/TeleportAbsolute.srv\n",
    "\n",
    "```srv\n",
    "float32 x\n",
    "float32 y\n",
    "float32 theta\n",
    "---\n",
    "```"
   ]
  },
  {
   "cell_type": "code",
   "execution_count": 3,
   "metadata": {},
   "outputs": [
    {
     "data": {
      "text/plain": [
       "turtlesim.srv.TeleportAbsolute_Request(x=0.0, y=0.0, theta=0.0)"
      ]
     },
     "execution_count": 3,
     "metadata": {},
     "output_type": "execute_result"
    }
   ],
   "source": [
    "# 요청 request\n",
    "req = TeleportAbsolute.Request()\n",
    "req"
   ]
  },
  {
   "cell_type": "code",
   "execution_count": 7,
   "metadata": {},
   "outputs": [
    {
     "data": {
      "text/plain": [
       "turtlesim.srv.TeleportAbsolute_Request(x=0.0, y=1.0, theta=3.14)"
      ]
     },
     "execution_count": 7,
     "metadata": {},
     "output_type": "execute_result"
    }
   ],
   "source": [
    "req.x = 0. #req.x = float(1)\n",
    "req.y = 1.\n",
    "req.theta = 3.14\n",
    "\n",
    "req"
   ]
  },
  {
   "cell_type": "code",
   "execution_count": 8,
   "metadata": {},
   "outputs": [],
   "source": [
    "# 서비스 클라이언트 요청 == 콜(call) 실행 \n",
    "cli.call_async(req)\n",
    "rp.spin_once(test_node)"
   ]
  },
  {
   "cell_type": "code",
   "execution_count": 12,
   "metadata": {},
   "outputs": [],
   "source": [
    "req.y = float(9)\n",
    "\n",
    "# 서비스 서버가 준비가 되어있는지 1초를 주기로 확인 \n",
    "while not cli.wait_for_service(timeout_sec=1.0):\n",
    "    print(\"waiting for service\")\n",
    "\n",
    "cli.call_async(req)\n",
    "rp.spin_once(test_node)"
   ]
  },
  {
   "cell_type": "code",
   "execution_count": 13,
   "metadata": {},
   "outputs": [
    {
     "name": "stdout",
     "output_type": "stream",
     "text": [
      "False None\n",
      "False None\n",
      "False None\n",
      "False None\n",
      "False None\n",
      "True turtlesim.srv.TeleportAbsolute_Response()\n"
     ]
    }
   ],
   "source": [
    "req.x = float(9)\n",
    "# 서비스 클아이언트 호출 \n",
    "future = cli.call_async(req)\n",
    "# done   : 서비스 클라이언트 호출 유무, return bool\n",
    "# result : 서비스 클라이언트 정보 \n",
    "while not future.done():\n",
    "    rp.spin_once(test_node)\n",
    "    print(future.done(), future.result()) "
   ]
  },
  {
   "cell_type": "code",
   "execution_count": null,
   "metadata": {},
   "outputs": [],
   "source": []
  }
 ],
 "metadata": {
  "kernelspec": {
   "display_name": "Python 3 (ipykernel)",
   "language": "python",
   "name": "python3"
  },
  "language_info": {
   "codemirror_mode": {
    "name": "ipython",
    "version": 3
   },
   "file_extension": ".py",
   "mimetype": "text/x-python",
   "name": "python",
   "nbconvert_exporter": "python",
   "pygments_lexer": "ipython3",
   "version": "3.8.10"
  }
 },
 "nbformat": 4,
 "nbformat_minor": 2
}
